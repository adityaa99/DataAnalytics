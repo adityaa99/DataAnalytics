{
 "cells": [
  {
   "cell_type": "markdown",
   "id": "467ed7c4-f708-49db-b854-6adbcff18cd8",
   "metadata": {},
   "source": [
    "### 1. Explain the key features of Python that make it a popular choice for programming."
   ]
  },
  {
   "cell_type": "raw",
   "id": "eec6bcc9-316b-4f69-8d29-55e79a6728a7",
   "metadata": {},
   "source": [
    "Many features make Python a popular choice for programming as mentioned below: \n",
    "1. Easy to learn and use -  It has a clean and simple syntax which allows beginners to get started easily. \n",
    "2. Readability - The code is easy to understand, which helps in maintaining and updating the code.\n",
    "3. No Compilation - Python is an interpreted language, code is executed line by line, making debugging easier.\n",
    "4. No Need to Declare Variable Types - Python determines the data type for the variables at runtime, which simplifies coding. \n",
    "5. Extensive Standard Library - Python has a large number (137K) of libraries that can be used as per our use case.\n",
    "6. Support for Multiple Programming Paradigms - It supports multiple programming paradigms such as Procedural Programming, Object-Oriented Programming, and Functional Programming. \n",
    "7. Robust and Scalable - Python is used by large organizations and for complex applications, for its robustness and scalability. "
   ]
  },
  {
   "cell_type": "markdown",
   "id": "95620784-debe-460c-b585-43bf22e55e75",
   "metadata": {},
   "source": [
    "### 2. Describe the role of predefined keywords in Python and provide examples of how they are used in a program. "
   ]
  },
  {
   "cell_type": "raw",
   "id": "0a4d9dab-50a2-4112-a909-7d5a317ddfe0",
   "metadata": {},
   "source": [
    "Python Keywords are some predefined and reserved words in Python that have special meanings. Keywords are used to define the syntax of the coding. The keyword cannot be used as an identifier, function, or variable name. These keywords are always available - you’ll never have to import them into your code.\n",
    "\n",
    "We can get a list of available keywords by using help() :  "
   ]
  },
  {
   "cell_type": "code",
   "execution_count": 20,
   "id": "e3e4f523-dec6-47d6-bb80-195639749529",
   "metadata": {},
   "outputs": [
    {
     "name": "stdout",
     "output_type": "stream",
     "text": [
      "\n",
      "Here is a list of the Python keywords.  Enter any keyword to get more help.\n",
      "\n",
      "False               class               from                or\n",
      "None                continue            global              pass\n",
      "True                def                 if                  raise\n",
      "and                 del                 import              return\n",
      "as                  elif                in                  try\n",
      "assert              else                is                  while\n",
      "async               except              lambda              with\n",
      "await               finally             nonlocal            yield\n",
      "break               for                 not                 \n",
      "\n"
     ]
    }
   ],
   "source": [
    "help(\"keywords\")"
   ]
  },
  {
   "cell_type": "raw",
   "id": "6b7dcfeb-15b6-40d4-b902-c5d4c8c53ccf",
   "metadata": {},
   "source": [
    "Examples for how we use keywords:"
   ]
  },
  {
   "cell_type": "code",
   "execution_count": 31,
   "id": "5f6590ee-3bb1-4c84-ae9a-83b1b3eabb6c",
   "metadata": {},
   "outputs": [
    {
     "name": "stdout",
     "output_type": "stream",
     "text": [
      "x is greater than 5\n"
     ]
    }
   ],
   "source": [
    "# Control Flow Keywords\n",
    "x = 10\n",
    "if x > 5:\n",
    "    print(\"x is greater than 5\")\n",
    "else:\n",
    "    print(\"x is 5 or less\")"
   ]
  },
  {
   "cell_type": "code",
   "execution_count": 29,
   "id": "0d814db7-5f86-41b8-bf0b-45db67a4af4d",
   "metadata": {},
   "outputs": [
    {
     "name": "stdout",
     "output_type": "stream",
     "text": [
      "0\n",
      "1\n",
      "2\n",
      "3\n",
      "4\n"
     ]
    }
   ],
   "source": [
    "# While Keyword\n",
    "count = 0\n",
    "while count < 5:\n",
    "    print(count)\n",
    "    count += 1"
   ]
  },
  {
   "cell_type": "markdown",
   "id": "4cea65c3-f53a-4851-81bf-f036f437d848",
   "metadata": {},
   "source": [
    "### 3. Compare and contrast mutable and immutable objects in Python with examples. "
   ]
  },
  {
   "cell_type": "raw",
   "id": "918f19a0-849d-4f41-bda3-db860e8f73bc",
   "metadata": {},
   "source": [
    "Comparing Mutable and Immutable Objects\n",
    "\n",
    "Modification\n",
    "    Immutable: Cannot be changed once created. Any modification results in a new object.\n",
    "    Mutable: Can be changed in place without creating a new object.\n",
    "\n",
    "Performance\n",
    "    Immutable: Often faster to access and safer to use in a multi-threaded environment because their state cannot change.\n",
    "    Mutable: This may incur additional overhead due to the need to manage changes and potential side effects.\n",
    "\n",
    "Use Cases\n",
    "    Immutable: Useful when you want to ensure the data cannot be altered such as when storing of Aadhar card number, Employee ID, and constants.\n",
    "    Mutable: Suitable for collections of items that need to be modified, such as when storing shopping lists, email addresses, and phone numbers."
   ]
  },
  {
   "cell_type": "raw",
   "id": "f6fe2042-e998-4518-bc48-4bfa6865457b",
   "metadata": {},
   "source": [
    "Immutable objects\n",
    "Immutable objects cannot be changed after their creation. Any attempt to modify an immutable object results in the creation of a new object.\n",
    "\n",
    "Examples of Immutable Objects:"
   ]
  },
  {
   "cell_type": "code",
   "execution_count": 37,
   "id": "1ece0c50-7a5a-4f65-928e-3764a31fbeba",
   "metadata": {},
   "outputs": [
    {
     "name": "stdout",
     "output_type": "stream",
     "text": [
      "hello world\n"
     ]
    }
   ],
   "source": [
    "s = \"hello\"\n",
    "s = s + \" world\"  # A new string \"hello world\" is created\n",
    "print(s)"
   ]
  },
  {
   "cell_type": "code",
   "execution_count": 41,
   "id": "88e8323f-8693-4ba3-8f65-f961139d4179",
   "metadata": {},
   "outputs": [
    {
     "ename": "TypeError",
     "evalue": "'tuple' object does not support item assignment",
     "output_type": "error",
     "traceback": [
      "\u001b[1;31m---------------------------------------------------------------------------\u001b[0m",
      "\u001b[1;31mTypeError\u001b[0m                                 Traceback (most recent call last)",
      "Cell \u001b[1;32mIn[41], line 2\u001b[0m\n\u001b[0;32m      1\u001b[0m t \u001b[38;5;241m=\u001b[39m (\u001b[38;5;241m1\u001b[39m, \u001b[38;5;241m2\u001b[39m, \u001b[38;5;241m3\u001b[39m)\n\u001b[1;32m----> 2\u001b[0m t[\u001b[38;5;241m0\u001b[39m] \u001b[38;5;241m=\u001b[39m \u001b[38;5;241m4\u001b[39m\n",
      "\u001b[1;31mTypeError\u001b[0m: 'tuple' object does not support item assignment"
     ]
    }
   ],
   "source": [
    "t = (1, 2, 3)\n",
    "t[0] = 4  # This would raise a TypeError because tuples are immutable"
   ]
  },
  {
   "cell_type": "raw",
   "id": "6028076b-9c4d-4b3b-be05-42bd47e3dd99",
   "metadata": {},
   "source": [
    "Mutable Objects\n",
    "Mutable objects can be changed after their creation. You can modify their content without creating a new object.\n",
    "\n",
    "Examples of Mutable Objects:"
   ]
  },
  {
   "cell_type": "code",
   "execution_count": 45,
   "id": "6316746b-efd0-4a48-91b8-86a4c8f371ca",
   "metadata": {},
   "outputs": [
    {
     "name": "stdout",
     "output_type": "stream",
     "text": [
      "[4, 2, 3]\n"
     ]
    }
   ],
   "source": [
    "lst = [1, 2, 3]\n",
    "lst[0] = 4  # The first element is changed to 4\n",
    "print(lst)"
   ]
  },
  {
   "cell_type": "code",
   "execution_count": 47,
   "id": "2af7d17c-08ce-4428-9b94-386de6a9c1c5",
   "metadata": {},
   "outputs": [
    {
     "name": "stdout",
     "output_type": "stream",
     "text": [
      "{1, 2, 3, 4}\n"
     ]
    }
   ],
   "source": [
    "s = {1, 2, 3}\n",
    "s.add(4)  # The element 4 is added to the set\n",
    "print(s)"
   ]
  },
  {
   "cell_type": "markdown",
   "id": "7bda5ed4-fb9b-47dd-b0af-1da539125096",
   "metadata": {},
   "source": [
    "### 4. Discuss the different types of operators in Python and provide examples of how they are used. "
   ]
  },
  {
   "cell_type": "raw",
   "id": "44f135d9-c32a-456b-9953-d2e493c05404",
   "metadata": {},
   "source": [
    "There are many types of operators in Python, these are used to perform operations on variables and values.\n",
    "\n",
    "- Arithmetic operators: Arithmetic operators are used to perform mathematical operations. (+  Addition, -  Subtraction, *  Multiplication, /  Division, % Modulus,** Exponentiation, //  Floor division)\n",
    "\n",
    "- Comparison operators: Comparison operators compare two values and return a boolean result (==  Equal, !=  Not equal, >  Greater than, <  Less than, >=  Greater than or equal to, <=  Less than or equal to).\n",
    "\n",
    "- Logical operators: Logical operators are used to combine conditional statements. (AND Returns True if both statements are true, OR  Returns True if one of the statements is true, NOT Reverse the result, returns False if the result is true)\n",
    "\n",
    "- Bitwise operators: Bitwise operators perform bit-by-bit operations. (&  AND, | OR, ^ XOR, ~ NOT, << Zero fill left shift, >> Signed right shift)\n",
    "\n",
    "- Assignment operators: Assignment operators are used to assign values to variables. (=, +=, -=, *=, /=, %=, //=, **=, &=, |=, ^=, >>=, <<=, :=)\n",
    "\n",
    "- Membership operators: Membership operators test for membership in a sequence (in, not in).\n",
    "\n",
    "- Identity Operators: Identity operators compare the memory locations of two objects. (is, is not)"
   ]
  },
  {
   "cell_type": "code",
   "execution_count": 62,
   "id": "a604bc2a-9ca3-4c04-9842-74b2e36d9249",
   "metadata": {},
   "outputs": [
    {
     "name": "stdout",
     "output_type": "stream",
     "text": [
      "8\n"
     ]
    }
   ],
   "source": [
    "# Arithmetic operators: Addition (+): Adds two operands.\n",
    "x = 5\n",
    "y = 3\n",
    "print(x + y)"
   ]
  },
  {
   "cell_type": "code",
   "execution_count": 64,
   "id": "81bdee5e-64b0-4a53-8ef3-09ca017bb69b",
   "metadata": {},
   "outputs": [
    {
     "name": "stdout",
     "output_type": "stream",
     "text": [
      "False\n"
     ]
    }
   ],
   "source": [
    "# Comparison operators: Equal to (==): Checks if two operands are equal.\n",
    "print(x == y)"
   ]
  },
  {
   "cell_type": "code",
   "execution_count": 66,
   "id": "d35a459e-f4b1-4944-b26d-68e772793471",
   "metadata": {},
   "outputs": [
    {
     "name": "stdout",
     "output_type": "stream",
     "text": [
      "True\n"
     ]
    }
   ],
   "source": [
    "# Logical Operators: AND (and): Returns True if both statements are true.\n",
    "print(x > 0 and y > 0) "
   ]
  },
  {
   "cell_type": "code",
   "execution_count": 68,
   "id": "2fa72d39-5c02-4718-a694-3ce525ed53b0",
   "metadata": {},
   "outputs": [
    {
     "name": "stdout",
     "output_type": "stream",
     "text": [
      "1\n"
     ]
    }
   ],
   "source": [
    "# Bitwise Operators: AND (&): Sets each bit to 1 if both bits are 1.\n",
    "print(x & y)"
   ]
  },
  {
   "cell_type": "code",
   "execution_count": 74,
   "id": "bb2fa122-148e-4090-929e-08e1cd1b4f06",
   "metadata": {},
   "outputs": [],
   "source": [
    "# Assignment Operators: Add and assign (+=): Adds the right operand to the left operand and assigns the result to the left operand.\n",
    "x += 3"
   ]
  },
  {
   "cell_type": "code",
   "execution_count": 76,
   "id": "51e3d7f4-c71e-4757-9ebf-203d03645890",
   "metadata": {},
   "outputs": [
    {
     "name": "stdout",
     "output_type": "stream",
     "text": [
      "True\n"
     ]
    }
   ],
   "source": [
    "# Membership Operators: In (in): Returns True if the specified value is present in the sequence.\n",
    "fruits = [\"apple\", \"banana\", \"cherry\"]\n",
    "print(\"banana\" in fruits)"
   ]
  },
  {
   "cell_type": "code",
   "execution_count": 82,
   "id": "68e8a9bd-c929-4a31-9990-b40da6da78ec",
   "metadata": {},
   "outputs": [
    {
     "name": "stdout",
     "output_type": "stream",
     "text": [
      "True\n",
      "False\n"
     ]
    }
   ],
   "source": [
    "# Identity Operators: Is (is): Returns True if both variables point to the same object.\n",
    "x = [\"apple\", \"banana\"]\n",
    "y = [\"apple\", \"banana\"]\n",
    "z = x\n",
    "print(x is z)  \n",
    "print(x is y)"
   ]
  },
  {
   "cell_type": "markdown",
   "id": "995a35d4-4aff-46e7-8a81-b962020fb9f7",
   "metadata": {},
   "source": [
    "### 5. Explain the concept of type casting in Python with examples. "
   ]
  },
  {
   "cell_type": "raw",
   "id": "0170d3eb-4207-4bc4-85c9-50775d7a5281",
   "metadata": {},
   "source": [
    "Type Casting is the method to convert the Python variable datatype into a certain data type to perform the required operation by users. In this article, we will see the various techniques for typecasting. \n",
    "There can be two types of Type Casting in Python:\n",
    "\n",
    "- Implicit Type Casting\n",
    "- Explicit Type Casting"
   ]
  },
  {
   "cell_type": "code",
   "execution_count": 91,
   "id": "d15c7860-4f9f-4775-9d25-b0c4edb31763",
   "metadata": {},
   "outputs": [
    {
     "name": "stdout",
     "output_type": "stream",
     "text": [
      "12.5\n",
      "<class 'float'>\n"
     ]
    }
   ],
   "source": [
    "# Implicit Type Casting\n",
    "# Implicit type casting is done automatically by Python without any explicit instruction from the programmer. Python automatically converts one data type to another whenever it is required in an operation.\n",
    "\n",
    "# Example of Implicit Type Casting\n",
    "\n",
    "# Integer to float\n",
    "x = 10  # x is an integer\n",
    "y = 2.5  # y is a float\n",
    "\n",
    "result = x + y  # Python automatically converts x to float\n",
    "print(result)   # Output: 12.5\n",
    "print(type(result))  # Output: <class 'float'>"
   ]
  },
  {
   "cell_type": "code",
   "execution_count": 93,
   "id": "33e7dc00-6dd4-4dcb-91a7-44bd316d31a0",
   "metadata": {},
   "outputs": [
    {
     "name": "stdout",
     "output_type": "stream",
     "text": [
      "5.0\n",
      "<class 'float'>\n"
     ]
    }
   ],
   "source": [
    "# Explicit Type Casting\n",
    "# Explicit type casting is done manually by the programmer using predefined functions. These functions include int(), float(), str(), list(), tuple(), set(), dict(), etc.\n",
    "\n",
    "# Examples of Explicit Type Casting\n",
    "\n",
    "# Converting Integer to Float\n",
    "x = 5\n",
    "y = float(x)  # Explicitly convert x to float\n",
    "print(y)  # Output: 5.0\n",
    "print(type(y))  # Output: <class 'float'>"
   ]
  },
  {
   "cell_type": "code",
   "execution_count": 95,
   "id": "d8a17721-b4fa-493a-8328-3c41ef0f5747",
   "metadata": {},
   "outputs": [
    {
     "name": "stdout",
     "output_type": "stream",
     "text": [
      "123\n",
      "<class 'int'>\n"
     ]
    }
   ],
   "source": [
    "# Converting String to Integer\n",
    "x = \"123\"\n",
    "y = int(x)  # Explicitly convert x to integer\n",
    "print(y)  # Output: 123\n",
    "print(type(y))  # Output: <class 'int'>"
   ]
  },
  {
   "cell_type": "code",
   "execution_count": 97,
   "id": "9ddc4750-3418-48c0-ae6d-c15e48796264",
   "metadata": {},
   "outputs": [
    {
     "name": "stdout",
     "output_type": "stream",
     "text": [
      "(1, 2, 3)\n",
      "<class 'tuple'>\n"
     ]
    }
   ],
   "source": [
    "# Converting List to Tuple\n",
    "x = [1, 2, 3]\n",
    "y = tuple(x)  # Explicitly convert x to tuple\n",
    "print(y)  # Output: (1, 2, 3)\n",
    "print(type(y))  # Output: <class 'tuple'>"
   ]
  },
  {
   "cell_type": "raw",
   "id": "32143e69-ed2c-44c2-9226-f97d135dc02e",
   "metadata": {},
   "source": [
    "Combining Type Casting \n",
    "You can also combine multiple type casts to achieve the desired result. For example:"
   ]
  },
  {
   "cell_type": "code",
   "execution_count": 99,
   "id": "be7d07ae-b312-4976-af9e-673b8cbd2771",
   "metadata": {},
   "outputs": [
    {
     "name": "stdout",
     "output_type": "stream",
     "text": [
      "123.0\n",
      "<class 'float'>\n"
     ]
    }
   ],
   "source": [
    "# Converting string to integer, then to float\n",
    "x = \"123\"\n",
    "y = float(int(x))  # First convert x to integer, then to float\n",
    "print(y)  # Output: 123.0\n",
    "print(type(y))  # Output: <class 'float'>"
   ]
  },
  {
   "cell_type": "markdown",
   "id": "2b77cae5-ddb4-40e1-bd8a-30ffb1b90f56",
   "metadata": {},
   "source": [
    "### 6. How do conditional statements work in Python? Illustrate with examples. "
   ]
  },
  {
   "cell_type": "raw",
   "id": "e4285d26-c019-4224-af9f-1cb62f85b003",
   "metadata": {},
   "source": [
    "Conditional Statements are statements in Python that provide a choice for the control flow based on a condition. It means that the control flow of the Python program will be decided based on the outcome of the condition. The primary conditional statements in Python are if, elif, and else.\n",
    "\n",
    "- if Statement\n",
    "The if statement is used to test a condition. If the condition is true, the block of code inside the if statement is executed.\n",
    "    if condition:\n",
    "        # code to execute if the condition is true\n",
    "\n",
    "- elif Statement\n",
    "The elif (short for else if) statement is used to test multiple conditions. If the previous conditions are false, the elif condition is checked. You can have multiple elif statements.\n",
    "    if condition1:\n",
    "        # code to execute if condition1 is true\n",
    "    elif condition2:\n",
    "        # code to execute if condition2 is true\n",
    "\n",
    "- else Statement\n",
    "The else statement is used to execute a block of code if none of the previous conditions are true.\n",
    "    if condition1:\n",
    "        # code to execute if condition1 is true\n",
    "    elif condition2:\n",
    "        # code to execute if condition2 is true\n",
    "    else:\n",
    "        # code to execute if none of the above conditions are true"
   ]
  },
  {
   "cell_type": "code",
   "execution_count": 101,
   "id": "51dd0c5c-94ac-4d9c-9efb-be6092c9e097",
   "metadata": {},
   "outputs": [
    {
     "name": "stdout",
     "output_type": "stream",
     "text": [
      "x is greater than 5\n"
     ]
    }
   ],
   "source": [
    "# Example 1: Simple if Statement\n",
    "x = 10\n",
    "if x > 5:\n",
    "    print(\"x is greater than 5\")"
   ]
  },
  {
   "cell_type": "code",
   "execution_count": 103,
   "id": "66b1c1d4-4228-4f77-a140-15d788c3c917",
   "metadata": {},
   "outputs": [
    {
     "name": "stdout",
     "output_type": "stream",
     "text": [
      "x is not greater than 5\n"
     ]
    }
   ],
   "source": [
    "# Example 2: if and else Statements\n",
    "x = 3\n",
    "if x > 5:\n",
    "    print(\"x is greater than 5\")\n",
    "else:\n",
    "    print(\"x is not greater than 5\")"
   ]
  },
  {
   "cell_type": "code",
   "execution_count": 109,
   "id": "142083fe-6c48-4d8c-89ba-4353f418e3f2",
   "metadata": {},
   "outputs": [
    {
     "name": "stdout",
     "output_type": "stream",
     "text": [
      "x is equal to 10\n"
     ]
    }
   ],
   "source": [
    "# Example 3: if, elif, and else Statements\n",
    "x = 10\n",
    "if x < 5:\n",
    "    print(\"x is less than 5\")\n",
    "elif x == 10:\n",
    "    print(\"x is equal to 10\")\n",
    "else:\n",
    "    print(\"x is greater than 5 but not equal to 10\")"
   ]
  },
  {
   "cell_type": "markdown",
   "id": "0597c025-ba45-4ffa-9c4b-646ef01e8a7e",
   "metadata": {},
   "source": [
    "### 7. Describe the different types of loops in Python and their use cases with examples. "
   ]
  },
  {
   "cell_type": "raw",
   "id": "212dd1bf-0fe5-4fd0-aece-d05cbd0910fd",
   "metadata": {},
   "source": [
    "Loops are used to iterate over a sequence (such as a list, tuple, dictionary, set, or string) or perform a block of code repeatedly until a certain condition is met. The two main types of loops in Python are FOR loops and WHILE loops. Each has its use cases and applications.\n",
    "\n",
    "1. for Loop\n",
    "A for loop is used to iterate over a sequence (like a list, tuple, dictionary, set, or string) and execute a block of code for each item in the sequence.\n",
    "    syntax - for item in sequence:"
   ]
  },
  {
   "cell_type": "code",
   "execution_count": 113,
   "id": "779d0a4e-7678-408e-bf9b-6ef370f8a34a",
   "metadata": {},
   "outputs": [
    {
     "name": "stdout",
     "output_type": "stream",
     "text": [
      "apple\n",
      "banana\n",
      "cherry\n"
     ]
    }
   ],
   "source": [
    "# Example: Iterating Over a List:\n",
    "fruits = [\"apple\", \"banana\", \"cherry\"]\n",
    "for fruit in fruits:\n",
    "    print(fruit)"
   ]
  },
  {
   "cell_type": "code",
   "execution_count": 115,
   "id": "2820cbef-d763-461b-bf4c-5bc46b7aca61",
   "metadata": {},
   "outputs": [
    {
     "name": "stdout",
     "output_type": "stream",
     "text": [
      "h\n",
      "e\n",
      "l\n",
      "l\n",
      "o\n"
     ]
    }
   ],
   "source": [
    "# Example: Iterating Over a String:\n",
    "for char in \"hello\":\n",
    "    print(char)"
   ]
  },
  {
   "cell_type": "code",
   "execution_count": 117,
   "id": "12eb1d19-2014-4e49-90ca-a4621d1524d0",
   "metadata": {},
   "outputs": [
    {
     "name": "stdout",
     "output_type": "stream",
     "text": [
      "0\n",
      "1\n",
      "2\n",
      "3\n",
      "4\n"
     ]
    }
   ],
   "source": [
    "# Example: Using range() Function:\n",
    "for i in range(5):\n",
    "    print(i)"
   ]
  },
  {
   "cell_type": "raw",
   "id": "ac14844d-261e-4f76-a3b6-0497dca3fc23",
   "metadata": {},
   "source": [
    "2. while Loop\n",
    "A while loop repeatedly executes a block of code as long as a specified condition is true.\n",
    "    syntax - while condition:"
   ]
  },
  {
   "cell_type": "code",
   "execution_count": 119,
   "id": "3df613e2-986a-40e3-8c66-7d8e7f285f22",
   "metadata": {},
   "outputs": [
    {
     "name": "stdout",
     "output_type": "stream",
     "text": [
      "0\n",
      "1\n",
      "2\n",
      "3\n",
      "4\n"
     ]
    }
   ],
   "source": [
    "# Examples: Basic while Loop:\n",
    "count = 0\n",
    "while count < 5:\n",
    "    print(count)\n",
    "    count += 1"
   ]
  },
  {
   "cell_type": "markdown",
   "id": "2f043fab-6aa6-4b10-8dee-b33af198a5d0",
   "metadata": {},
   "source": [
    "Loop Control Statements\n",
    "Loop control statements change the execution flow of loops. They include break, continue, and else."
   ]
  },
  {
   "cell_type": "raw",
   "id": "730703b7-f97e-4d8f-9729-bc2e20d4b990",
   "metadata": {},
   "source": [
    "1. break Statement:\n",
    "The break statement terminates the loop prematurely."
   ]
  },
  {
   "cell_type": "code",
   "execution_count": 123,
   "id": "dbee4fd2-7eea-40d1-bd0f-9f24e4415b5a",
   "metadata": {},
   "outputs": [
    {
     "name": "stdout",
     "output_type": "stream",
     "text": [
      "0\n",
      "1\n",
      "2\n",
      "3\n",
      "4\n"
     ]
    }
   ],
   "source": [
    "for i in range(10):\n",
    "    if i == 5:\n",
    "        break\n",
    "    print(i)"
   ]
  },
  {
   "cell_type": "raw",
   "id": "d68602b1-3210-4275-84ea-1670b9f82b21",
   "metadata": {},
   "source": [
    "2. continue Statement:\n",
    "The continue statement skips the rest of the code inside the loop for the current iteration and moves to the next iteration."
   ]
  },
  {
   "cell_type": "code",
   "execution_count": 125,
   "id": "4080e8f1-114c-4d7d-97b1-5444b201698c",
   "metadata": {},
   "outputs": [
    {
     "name": "stdout",
     "output_type": "stream",
     "text": [
      "1\n",
      "3\n",
      "5\n",
      "7\n",
      "9\n"
     ]
    }
   ],
   "source": [
    "for i in range(10):\n",
    "    if i % 2 == 0:\n",
    "        continue\n",
    "    print(i)"
   ]
  },
  {
   "cell_type": "raw",
   "id": "30690275-c211-4c28-9b1d-e6674166a788",
   "metadata": {},
   "source": [
    "3. else Clause:\n",
    "The else clause is executed when the loop is not terminated by a break statement."
   ]
  },
  {
   "cell_type": "code",
   "execution_count": 127,
   "id": "ac7666a4-ef84-487d-8aed-dcb25c896eb8",
   "metadata": {},
   "outputs": [
    {
     "name": "stdout",
     "output_type": "stream",
     "text": [
      "0\n",
      "1\n",
      "2\n",
      "3\n",
      "4\n",
      "Loop completed without break\n"
     ]
    }
   ],
   "source": [
    "for i in range(5):\n",
    "    print(i)\n",
    "else:\n",
    "    print(\"Loop completed without break\")"
   ]
  }
 ],
 "metadata": {
  "kernelspec": {
   "display_name": "Python 3 (ipykernel)",
   "language": "python",
   "name": "python3"
  },
  "language_info": {
   "codemirror_mode": {
    "name": "ipython",
    "version": 3
   },
   "file_extension": ".py",
   "mimetype": "text/x-python",
   "name": "python",
   "nbconvert_exporter": "python",
   "pygments_lexer": "ipython3",
   "version": "3.12.4"
  }
 },
 "nbformat": 4,
 "nbformat_minor": 5
}
