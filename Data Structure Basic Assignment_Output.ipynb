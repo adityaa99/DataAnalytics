{
 "cells": [
  {
   "cell_type": "markdown",
   "id": "9d599996-0f51-46ad-860b-5de4e7447de9",
   "metadata": {},
   "source": [
    "### 1. Discuss string slicing and provide examples."
   ]
  },
  {
   "cell_type": "raw",
   "id": "8c0b0a88-8583-4fbd-b0b1-d6175515f0df",
   "metadata": {},
   "source": [
    "Python Slicing\n",
    "\n",
    "Indexing\n",
    "Indexing refers to accessing individual characters in a string based on their positions. Each character has a unique index:\n",
    "\n",
    "Positive Indexing: Starts from 0 at the beginning of the string and increases by 1 for each subsequent character.\n",
    "  \n",
    "text = \"Python\"\n",
    "print(text[0])  # 'P'\n",
    "print(text[1])  # 'y'\n",
    "  \n",
    "\n",
    "Negative Indexing: Starts from -1 at the end of the string and decreases by 1 as you move backward.\n",
    "\n",
    "print(text[-1])  # 'n'\n",
    "print(text[-2])  # 'o'\n",
    "\n",
    "\n",
    "Slicing\n",
    "\n",
    "Slicing lets you obtain a substring by specifying start, stop, and step parameters. There are two primary ways to perform slicing in Python:\n",
    "\n",
    "1. Using Array Slicing [:: ] Method\n",
    "\n",
    "Basic Syntax:\n",
    "substring = original_string[start:stop:step]\n",
    "start: The index where the slice starts (inclusive).\n",
    "stop: The index where the slice ends (exclusive).\n",
    "step: The interval between characters in the slice (optional)."
   ]
  },
  {
   "cell_type": "code",
   "execution_count": 7,
   "id": "81972c27-74ca-477e-b123-a9ca5bc582a8",
   "metadata": {},
   "outputs": [
    {
     "name": "stdout",
     "output_type": "stream",
     "text": [
      "Hello\n"
     ]
    }
   ],
   "source": [
    "# Examples:\n",
    "# Basic Slicing\n",
    "text = \"Hello, World!\"\n",
    "slice1 = text[0:5]  # \"Hello\"\n",
    "print(slice1)"
   ]
  },
  {
   "cell_type": "code",
   "execution_count": 9,
   "id": "130b06bd-0f6a-42fb-9a7a-fb42f2f37018",
   "metadata": {},
   "outputs": [
    {
     "name": "stdout",
     "output_type": "stream",
     "text": [
      "Hlo ol\n"
     ]
    }
   ],
   "source": [
    "# With a Step\n",
    "text = \"Hello, World!\"\n",
    "slice2 = text[0:12:2]  # \"Hlo ol\"\n",
    "print(slice2)"
   ]
  },
  {
   "cell_type": "code",
   "execution_count": 11,
   "id": "a3f80475-1994-4140-b5d4-533e68879ebc",
   "metadata": {},
   "outputs": [
    {
     "name": "stdout",
     "output_type": "stream",
     "text": [
      "Hello\n",
      "World!\n"
     ]
    }
   ],
   "source": [
    "# Omitting Start and Stop\n",
    "text = \"Hello, World!\"\n",
    "slice3 = text[:5]    # \"Hello\"\n",
    "slice4 = text[7:]    # \"World!\"\n",
    "print(slice3)\n",
    "print(slice4)"
   ]
  },
  {
   "cell_type": "code",
   "execution_count": 13,
   "id": "40e0620c-410e-45e8-b3c6-56b30cf1768e",
   "metadata": {},
   "outputs": [
    {
     "name": "stdout",
     "output_type": "stream",
     "text": [
      "World!\n",
      "Hello,\n"
     ]
    }
   ],
   "source": [
    "# Negative Indices\n",
    "text = \"Hello, World!\"\n",
    "slice5 = text[-6:]   # \"World!\"\n",
    "slice6 = text[:-7]   # \"Hello, \"\n",
    "print(slice5)\n",
    "print(slice6)"
   ]
  },
  {
   "cell_type": "code",
   "execution_count": 15,
   "id": "4211b760-c729-45b2-b470-b950be65488b",
   "metadata": {},
   "outputs": [
    {
     "name": "stdout",
     "output_type": "stream",
     "text": [
      "!dlroW ,olleH\n"
     ]
    }
   ],
   "source": [
    "# Reversing a String\n",
    "text = \"Hello, World!\"\n",
    "reversed_text = text[::-1]  # \"!dlroW ,olleH\"\n",
    "print(reversed_text)"
   ]
  },
  {
   "cell_type": "raw",
   "id": "1909bf0c-87b6-413c-82a8-73d4c1b5094c",
   "metadata": {},
   "source": [
    "2. Using slice() Method\n",
    "\n",
    "The slice() function provides an alternative way to perform slicing, especially useful for dynamic or complex scenarios. It returns a `slice` object that can be used to extract a portion of a sequence, such as a string, list, or tuple.\n",
    "\n",
    "Basic Syntax:\n",
    "slice(start, stop, step)"
   ]
  },
  {
   "cell_type": "code",
   "execution_count": 19,
   "id": "979e16b4-e36d-4884-9b39-3b64448186dc",
   "metadata": {},
   "outputs": [
    {
     "name": "stdout",
     "output_type": "stream",
     "text": [
      "Hello\n"
     ]
    }
   ],
   "source": [
    "# Examples:\n",
    "# Basic Slicing\n",
    "text = \"Hello, World!\"\n",
    "slicer = slice(0, 5)\n",
    "result = text[slicer]  # \"Hello\"\n",
    "print(result)"
   ]
  },
  {
   "cell_type": "code",
   "execution_count": 21,
   "id": "7fee916c-f474-4db2-9df0-9f6f66c16137",
   "metadata": {},
   "outputs": [
    {
     "name": "stdout",
     "output_type": "stream",
     "text": [
      "Pto rgamn\n"
     ]
    }
   ],
   "source": [
    "# Using Step\n",
    "text = \"Python Programming\"\n",
    "slicer = slice(0, 18, 2)\n",
    "result = text[slicer]  # \"Pto rgamn\"\n",
    "print(result)"
   ]
  },
  {
   "cell_type": "code",
   "execution_count": 23,
   "id": "beaf1ed1-d942-434e-9dbb-e69204517c54",
   "metadata": {},
   "outputs": [
    {
     "name": "stdout",
     "output_type": "stream",
     "text": [
      "Scienc\n"
     ]
    }
   ],
   "source": [
    "# Negative Indices\n",
    "text = \"Data Science\"\n",
    "slicer = slice(-7, -1)\n",
    "result = text[slicer]  # \"Science\"\n",
    "print(result)"
   ]
  },
  {
   "cell_type": "markdown",
   "id": "fa571cae-caf3-48b6-b601-324c95d3f13e",
   "metadata": {},
   "source": [
    "### 2. Explain the key features of lists in Python."
   ]
  },
  {
   "cell_type": "raw",
   "id": "7ed04283-f5d1-47b0-a87f-806314dd2fbc",
   "metadata": {},
   "source": [
    "Python Lists are just like dynamically sized arrays, declared in other languages. In simple language, a list is a collection of things, enclosed in [ ] and separated by commas.\n",
    "\n",
    "Key Features of Lists in Python\n",
    "\n",
    "1. Ordered Collection\n",
    "- Lists maintain the order of elements as they are added. This means that the position of each element is preserved, and you can access elements by their index.\n",
    "\n",
    "2. Mutable\n",
    "- Lists are mutable, meaning you can change, add, or remove elements after the list has been created. This flexibility allows for extensive manipulation of the list's contents.\n",
    "\n",
    "3. Dynamic Size\n",
    "- Lists can grow or shrink in size dynamically. This means that you can add new elements to the list or remove existing ones, and the list will adjust its size accordingly.\n",
    "\n",
    "4. Heterogeneous Elements\n",
    "- Lists can contain elements of different types. This includes integers, strings, other lists, and objects, allowing for diverse data types within a single list.\n",
    "\n",
    "5. Indexing and Slicing\n",
    "- Lists support indexing and slicing operations. Indexing allows you to access individual elements, while slicing enables you to obtain a subset of elements. This facilitates easy extraction and manipulation of specific parts of the list.\n",
    "\n",
    "6. Methods for Manipulation\n",
    "- Lists come with a variety of built-in methods for manipulating their contents. These methods include adding elements, removing elements, sorting, reversing, and more, providing powerful tools for list management.\n",
    "\n",
    "7. List Comprehensions\n",
    "- Python supports list comprehensions, which are concise and expressive ways to generate and manipulate lists. This feature allows for creating lists based on existing lists or other iterables with a single line of code.\n",
    "\n",
    "8. Nested Lists\n",
    "- Lists can contain other lists, enabling the creation of multi-dimensional arrays or matrices. This feature supports complex data structures and allows for hierarchical or grid-based data representations."
   ]
  },
  {
   "cell_type": "markdown",
   "id": "d351dad8-3215-49d0-8db8-4e00ffb5148f",
   "metadata": {},
   "source": [
    "### 3. Describe how to access, modify, and delete elements in a list with examples."
   ]
  },
  {
   "cell_type": "raw",
   "id": "efe260bf-3f85-4500-bb73-c402a34ec0d3",
   "metadata": {},
   "source": [
    "1. Accessing Elements\n",
    "You can access elements in a list using indexing. Python lists are zero-indexed, so the index starts at 0."
   ]
  },
  {
   "cell_type": "code",
   "execution_count": 31,
   "id": "ba731e90-9a0b-4eea-af05-4412b7fe7299",
   "metadata": {},
   "outputs": [
    {
     "name": "stdout",
     "output_type": "stream",
     "text": [
      "first element is  10  and third element is  30\n"
     ]
    }
   ],
   "source": [
    "my_list = [10, 20, 30, 40, 50]\n",
    "first_element = my_list[0]    # Accesses 10\n",
    "third_element = my_list[2]    # Accesses 30\n",
    "print(\"first element is \", first_element, \" and third element is \", third_element )"
   ]
  },
  {
   "cell_type": "raw",
   "id": "6e281efd-85c3-4c51-80aa-5a96f4cbf7dc",
   "metadata": {},
   "source": [
    "2. Modifying Elements\n",
    "You can modify elements in a list by accessing them through their index and then assigning a new value."
   ]
  },
  {
   "cell_type": "code",
   "execution_count": 33,
   "id": "fe7153cf-2b19-4fb9-a9eb-4605d9358acf",
   "metadata": {},
   "outputs": [
    {
     "name": "stdout",
     "output_type": "stream",
     "text": [
      "[10, 25, 30, 40, 50]\n"
     ]
    }
   ],
   "source": [
    "my_list = [10, 20, 30, 40, 50]\n",
    "my_list[1] = 25    # Changes the element at index 1 from 20 to 25\n",
    "print(my_list)"
   ]
  },
  {
   "cell_type": "raw",
   "id": "cbcfee7b-94f7-40ef-9813-f605a721fead",
   "metadata": {},
   "source": [
    "3. Deleting Elements\n",
    "You can delete elements from a list using several methods:"
   ]
  },
  {
   "cell_type": "code",
   "execution_count": 35,
   "id": "77c76307-f5ba-4322-bb7c-fd1154f285fa",
   "metadata": {},
   "outputs": [
    {
     "name": "stdout",
     "output_type": "stream",
     "text": [
      "[10, 20, 40, 50]\n"
     ]
    }
   ],
   "source": [
    "#  Using del Statement: Remove an element by index.\n",
    "\n",
    "my_list = [10, 20, 30, 40, 50]\n",
    "del my_list[2]    # Removes the element at index 2 (30)\n",
    "print(my_list)"
   ]
  },
  {
   "cell_type": "code",
   "execution_count": 49,
   "id": "9f902ca0-0e98-475f-8ebe-81432cdbc329",
   "metadata": {},
   "outputs": [
    {
     "name": "stdout",
     "output_type": "stream",
     "text": [
      "the removed element is  20 \n",
      "the last removed element is  50 \n",
      "and the final list is  [10, 30, 40]\n"
     ]
    }
   ],
   "source": [
    "#  Using pop() Method: Remove and return an element by index. If no index is provided, it removes and returns the last item.\n",
    "\n",
    "my_list = [10, 20, 30, 40, 50]\n",
    "removed_element = my_list.pop(1)    # Removes and returns the element at index 1 (20)\n",
    "last_element = my_list.pop()        # Removes and returns the last element (50)\n",
    "print(\"the removed element is \", removed_element  , \"\\nthe last removed element is \",last_element, \"\\nand the final list is \", my_list  )"
   ]
  },
  {
   "cell_type": "code",
   "execution_count": 51,
   "id": "228f9f99-fb2e-4e44-b2a2-b8ff2326a2ae",
   "metadata": {},
   "outputs": [
    {
     "name": "stdout",
     "output_type": "stream",
     "text": [
      "[10, 20, 40, 50]\n"
     ]
    }
   ],
   "source": [
    "#  Using remove() Method: Remove the first occurrence of a specific value.\n",
    "\n",
    "my_list = [10, 20, 30, 40, 50]\n",
    "my_list.remove(30)    # Removes the first occurrence of the value 30\n",
    "print(my_list)"
   ]
  },
  {
   "cell_type": "code",
   "execution_count": 53,
   "id": "1109e6da-0510-42d8-b6b8-8846fdfaf580",
   "metadata": {},
   "outputs": [
    {
     "name": "stdout",
     "output_type": "stream",
     "text": [
      "[]\n"
     ]
    }
   ],
   "source": [
    "#  Using clear() Method: Remove all elements from the list.\n",
    "\n",
    "my_list = [10, 20, 30, 40, 50]\n",
    "my_list.clear()    # Removes all elements, resulting in an empty list\n",
    "print(my_list)"
   ]
  },
  {
   "cell_type": "markdown",
   "id": "049825ba-8f27-4c3d-b7f9-29b31211c5a4",
   "metadata": {},
   "source": [
    "### 4. Compare and contrast tuples and lists with examples."
   ]
  },
  {
   "cell_type": "raw",
   "id": "df499c8b-d615-4d19-b6f3-a22b82603ad9",
   "metadata": {},
   "source": [
    "1. Mutability\n",
    "- Lists: Mutable, meaning you can modify their content after creation. You can add, remove, or change elements."
   ]
  },
  {
   "cell_type": "code",
   "execution_count": 58,
   "id": "e390f021-21c6-4cba-86f0-a93e1ea63b1a",
   "metadata": {},
   "outputs": [
    {
     "name": "stdout",
     "output_type": "stream",
     "text": [
      "[1, 20, 3, 4]\n"
     ]
    }
   ],
   "source": [
    "# Example:\n",
    "\n",
    "my_list = [1, 2, 3]\n",
    "my_list[1] = 20# Modifies the second element\n",
    "my_list.append(4) # Adds a new element to the end\n",
    "print(my_list)"
   ]
  },
  {
   "cell_type": "raw",
   "id": "3666c4b3-7c75-4f73-9eab-cf66ea25df18",
   "metadata": {},
   "source": [
    "- Tuples: Immutable, meaning once a tuple is created, its content cannot be changed. You cannot add, remove, or alter elements."
   ]
  },
  {
   "cell_type": "code",
   "execution_count": 62,
   "id": "5fa10caa-75cc-410b-a859-6a263bebd1dd",
   "metadata": {},
   "outputs": [
    {
     "ename": "TypeError",
     "evalue": "'tuple' object does not support item assignment",
     "output_type": "error",
     "traceback": [
      "\u001b[1;31m---------------------------------------------------------------------------\u001b[0m",
      "\u001b[1;31mTypeError\u001b[0m                                 Traceback (most recent call last)",
      "Cell \u001b[1;32mIn[62], line 4\u001b[0m\n\u001b[0;32m      1\u001b[0m \u001b[38;5;66;03m# Example:\u001b[39;00m\n\u001b[0;32m      3\u001b[0m my_tuple \u001b[38;5;241m=\u001b[39m (\u001b[38;5;241m1\u001b[39m, \u001b[38;5;241m2\u001b[39m, \u001b[38;5;241m3\u001b[39m)\n\u001b[1;32m----> 4\u001b[0m my_tuple[\u001b[38;5;241m1\u001b[39m] \u001b[38;5;241m=\u001b[39m \u001b[38;5;241m20\u001b[39m\n",
      "\u001b[1;31mTypeError\u001b[0m: 'tuple' object does not support item assignment"
     ]
    }
   ],
   "source": [
    "# Example:\n",
    "\n",
    "my_tuple = (1, 2, 3)\n",
    "my_tuple[1] = 20 # This will raise a TypeError"
   ]
  },
  {
   "cell_type": "raw",
   "id": "83fb58b4-1bbc-4eb0-9d79-e95ff8e42ae9",
   "metadata": {},
   "source": [
    "2.Syntax\n",
    "\n",
    "-Lists: Defined using square brackets `[]`."
   ]
  },
  {
   "cell_type": "code",
   "execution_count": 64,
   "id": "ed96d923-d1f0-40ad-9abb-69fe4dbb257d",
   "metadata": {},
   "outputs": [
    {
     "name": "stdout",
     "output_type": "stream",
     "text": [
      "[1, 2, 3, 4]\n"
     ]
    }
   ],
   "source": [
    "# Example:\n",
    "\n",
    "my_list = [1, 2, 3, 4]\n",
    "print(my_list)"
   ]
  },
  {
   "cell_type": "raw",
   "id": "329c61ed-7bc9-4ae5-8831-60d0aa9d1a65",
   "metadata": {},
   "source": [
    "- Tuples: Defined using parentheses `()`."
   ]
  },
  {
   "cell_type": "code",
   "execution_count": 68,
   "id": "997c4e9a-4341-478b-9cc0-e02262a51c47",
   "metadata": {},
   "outputs": [
    {
     "name": "stdout",
     "output_type": "stream",
     "text": [
      "(1, 2, 3, 4)\n"
     ]
    }
   ],
   "source": [
    "# Example:\n",
    "\n",
    "my_tuple = (1, 2, 3, 4)\n",
    "print(my_tuple)"
   ]
  },
  {
   "cell_type": "raw",
   "id": "4136a49f-bd77-4eb6-84bd-5fb8f39b7d39",
   "metadata": {},
   "source": [
    "3. Performance\n",
    "\n",
    "- Lists: Generally have a bit more overhead due to their mutability, which can affect performance in cases where many modifications are required.\n",
    "\n",
    "- Tuples: Tend to be faster than lists for iteration and access because of their immutability. They also have a smaller memory footprint."
   ]
  },
  {
   "cell_type": "raw",
   "id": "08c217e8-94b4-414c-ad03-ef3170a7b4a1",
   "metadata": {},
   "source": [
    "4. Methods\n",
    "\n",
    "- Lists: Have several built-in methods for manipulation such as `append()`, `extend()`, `insert()`, `remove()`, `pop()`, `clear()`, `sort()`, and `reverse()`."
   ]
  },
  {
   "cell_type": "code",
   "execution_count": 70,
   "id": "6ae0353c-56f4-4cb1-a004-bd1192961db9",
   "metadata": {},
   "outputs": [
    {
     "name": "stdout",
     "output_type": "stream",
     "text": [
      "[1, 3, 4]\n"
     ]
    }
   ],
   "source": [
    "# Example:\n",
    "\n",
    "my_list = [1, 2, 3]\n",
    "my_list.append(4) # Adds 4 to the end\n",
    "my_list.remove(2) # Removes the first occurrence of 2\n",
    "print(my_list)"
   ]
  },
  {
   "cell_type": "raw",
   "id": "c795d3bf-6a96-4f3c-b881-1d2e9ca61fd8",
   "metadata": {},
   "source": [
    "- Tuples: Have fewer built-in methods. Only `count()` and `index()` are available for tuples."
   ]
  },
  {
   "cell_type": "code",
   "execution_count": 74,
   "id": "f58c24e8-a02d-4849-82a7-48b0df4bad08",
   "metadata": {},
   "outputs": [
    {
     "name": "stdout",
     "output_type": "stream",
     "text": [
      "(1, 2, 3, 2)\n"
     ]
    }
   ],
   "source": [
    "\n",
    "# Example:\n",
    "\n",
    "my_tuple = (1, 2, 3, 2)\n",
    "count_of_two = my_tuple.count(2)# Counts occurrences of 2\n",
    "index_of_two = my_tuple.index(2)# Finds the index of the first occurrence of 2\n",
    "print(my_tuple)"
   ]
  },
  {
   "cell_type": "raw",
   "id": "8d3be20a-3633-4ceb-aa5c-50d8ac1b6a2f",
   "metadata": {},
   "source": [
    "5. Use Cases\n",
    "\n",
    "- Lists: Suitable for collections of items that might change in size or content. They are more flexible and ideal for scenarios where you need to perform operations like adding or removing elements."
   ]
  },
  {
   "cell_type": "code",
   "execution_count": 78,
   "id": "6bc2326a-2440-48be-9e44-793f4e08a993",
   "metadata": {},
   "outputs": [
    {
     "name": "stdout",
     "output_type": "stream",
     "text": [
      "['task1', 'task2', 'task3', 'task4']\n"
     ]
    }
   ],
   "source": [
    "# Example Use Case:\n",
    "\n",
    "tasks = [\"task1\", \"task2\", \"task3\"]\n",
    "tasks.append(\"task4\")# Add a new task\n",
    "print(tasks)"
   ]
  },
  {
   "cell_type": "raw",
   "id": "88f9284f-60e0-4be4-8550-9930f60e0d3b",
   "metadata": {},
   "source": [
    "- Tuples: Best for fixed collections of items that should not change. They are often used to represent records or data that should remain constant."
   ]
  },
  {
   "cell_type": "code",
   "execution_count": 80,
   "id": "0be1067b-40b3-46aa-944e-df2d7cc380cd",
   "metadata": {},
   "outputs": [
    {
     "name": "stdout",
     "output_type": "stream",
     "text": [
      "(10.0, 20.0)\n"
     ]
    }
   ],
   "source": [
    "# Example Use Case:\n",
    "\n",
    "coordinates = (10.0, 20.0)# Immutable coordinates of a point\n",
    "print(coordinates)"
   ]
  },
  {
   "cell_type": "raw",
   "id": "78cb2576-8f9b-47f3-8df4-b8e665d4cf40",
   "metadata": {},
   "source": [
    "6. Hashability\n",
    "\n",
    "- Lists: Not hashable, meaning they cannot be used as keys in dictionaries or elements in sets.\n",
    "\n",
    "- Tuples: Hashable (if all their elements are hashable), making them suitable for use as dictionary keys or set elements."
   ]
  },
  {
   "cell_type": "code",
   "execution_count": 86,
   "id": "3094b5d5-4bf4-421d-8734-2e8614a43859",
   "metadata": {},
   "outputs": [
    {
     "name": "stdout",
     "output_type": "stream",
     "text": [
      "{(1, 2, 3): 'value'}\n"
     ]
    }
   ],
   "source": [
    "# Example:\n",
    "\n",
    "my_dict = {}\n",
    "my_tuple = (1, 2, 3)\n",
    "my_dict[my_tuple] = \"value\" # Valid\n",
    "print(my_dict)"
   ]
  },
  {
   "cell_type": "markdown",
   "id": "2202581f-522e-4674-8506-6a624c409a2c",
   "metadata": {},
   "source": [
    "### 5. Describe the key features of sets and provide examples of their use."
   ]
  },
  {
   "cell_type": "raw",
   "id": "884f4529-2bb9-4fbc-a5b3-3e2daaa2ca15",
   "metadata": {},
   "source": [
    "Key Features of Sets\n",
    "\n",
    "1. Unique Elements\n",
    "- Sets automatically enforce the uniqueness of elements. Duplicate values are not allowed, and any attempt to add a duplicate item will be ignored."
   ]
  },
  {
   "cell_type": "code",
   "execution_count": 89,
   "id": "22142c1a-c14b-44cd-b844-a15d9d9f7a7e",
   "metadata": {},
   "outputs": [
    {
     "name": "stdout",
     "output_type": "stream",
     "text": [
      "{1, 2, 3, 4}\n"
     ]
    }
   ],
   "source": [
    "# Example:\n",
    "\n",
    "my_set = {1, 2, 3, 2, 4}\n",
    "print(my_set)# Output: {1, 2, 3, 4}"
   ]
  },
  {
   "cell_type": "raw",
   "id": "303c28eb-8221-49bf-b0b3-35e2439301c1",
   "metadata": {},
   "source": [
    "2. Unordered Collection\n",
    "- Sets do not maintain any order of elements. The order of elements is not guaranteed and can vary. This means you cannot access elements by index."
   ]
  },
  {
   "cell_type": "code",
   "execution_count": 91,
   "id": "902f8510-5b28-47d2-b8a2-ddd14521bd86",
   "metadata": {},
   "outputs": [
    {
     "name": "stdout",
     "output_type": "stream",
     "text": [
      "9\n",
      "3\n",
      "5\n"
     ]
    }
   ],
   "source": [
    "# Example:\n",
    "\n",
    "my_set = {5, 3, 9}\n",
    "for item in my_set:\n",
    " print(item)# Order may vary"
   ]
  },
  {
   "cell_type": "raw",
   "id": "92dfd301-690c-4453-b474-ce9b2a95156e",
   "metadata": {},
   "source": [
    "3. Mutable\n",
    "- Sets are mutable, meaning you can add or remove elements after the set is created. However, the elements themselves must be immutable (e.g., numbers, strings, tuples)."
   ]
  },
  {
   "cell_type": "code",
   "execution_count": 95,
   "id": "53fbf84c-fffd-4f9d-b703-90eec917ff04",
   "metadata": {},
   "outputs": [
    {
     "name": "stdout",
     "output_type": "stream",
     "text": [
      "{1, 3, 4}\n"
     ]
    }
   ],
   "source": [
    "# Example:\n",
    "\n",
    "my_set = {1, 2, 3}\n",
    "my_set.add(4) # Adds 4 to the set\n",
    "my_set.remove(2) # Removes 2 from the set\n",
    "print(my_set)"
   ]
  },
  {
   "cell_type": "raw",
   "id": "b98c4de1-bcc4-4f05-b97b-600b077aa675",
   "metadata": {},
   "source": [
    "4. Set Operations\n",
    "- Sets support mathematical operations such as union, intersection, difference, and symmetric difference. These operations can be used to compare and combine sets."
   ]
  },
  {
   "cell_type": "code",
   "execution_count": 97,
   "id": "310fb036-875a-4e4d-a8b1-37625f885ed3",
   "metadata": {},
   "outputs": [
    {
     "name": "stdout",
     "output_type": "stream",
     "text": [
      "{1, 2, 3, 4, 5}\n"
     ]
    }
   ],
   "source": [
    "# Examples:\n",
    "# Union: Combines elements from both sets.\n",
    "\n",
    "set1 = {1, 2, 3}\n",
    "set2 = {3, 4, 5}\n",
    "union_set = set1 | set2\n",
    "print(union_set)# Output: {1, 2, 3, 4, 5}"
   ]
  },
  {
   "cell_type": "code",
   "execution_count": 99,
   "id": "3ec3a774-eb64-4314-bf61-8a4503286c8f",
   "metadata": {},
   "outputs": [
    {
     "name": "stdout",
     "output_type": "stream",
     "text": [
      "{3}\n"
     ]
    }
   ],
   "source": [
    "# Intersection: Finds common elements between sets.\n",
    "\n",
    "intersection_set = set1 & set2\n",
    "print(intersection_set)# Output: {3}\n"
   ]
  },
  {
   "cell_type": "code",
   "execution_count": 101,
   "id": "69e5afff-a429-464e-9575-77bfb356d8ed",
   "metadata": {},
   "outputs": [
    {
     "name": "stdout",
     "output_type": "stream",
     "text": [
      "{1, 2}\n"
     ]
    }
   ],
   "source": [
    "# Difference: Finds elements in one set that are not in the other.\n",
    "\n",
    "difference_set = set1 - set2\n",
    "print(difference_set)# Output: {1, 2}"
   ]
  },
  {
   "cell_type": "code",
   "execution_count": 103,
   "id": "21f1357c-4fe8-443d-a446-6b6236269ab0",
   "metadata": {},
   "outputs": [
    {
     "name": "stdout",
     "output_type": "stream",
     "text": [
      "{1, 2, 4, 5}\n"
     ]
    }
   ],
   "source": [
    "# Symmetric Difference: Finds elements in either of the sets, but not in both.\n",
    "\n",
    "symmetric_diff_set = set1 ^ set2\n",
    "print(symmetric_diff_set)# Output: {1, 2, 4, 5}"
   ]
  },
  {
   "cell_type": "raw",
   "id": "7fd4a815-0c0d-4abc-a8f7-f7427fe89e25",
   "metadata": {},
   "source": [
    "5. Set Methods\n",
    "- Sets come with a variety of built-in methods for adding, removing, and testing membership of elements:"
   ]
  },
  {
   "cell_type": "code",
   "execution_count": 107,
   "id": "318701f6-570f-4bca-94bd-77a0ddfd6616",
   "metadata": {},
   "outputs": [
    {
     "name": "stdout",
     "output_type": "stream",
     "text": [
      "{1, 2, 3}\n"
     ]
    }
   ],
   "source": [
    "# Examples:\n",
    "# add(elem): Adds an element to the set.\n",
    "\n",
    "my_set = {1, 2}\n",
    "my_set.add(3)\n",
    "print(my_set)# Output: {1, 2, 3}"
   ]
  },
  {
   "cell_type": "code",
   "execution_count": 109,
   "id": "0f3aed1f-0854-4d2c-8931-3378b2697d89",
   "metadata": {},
   "outputs": [
    {
     "name": "stdout",
     "output_type": "stream",
     "text": [
      "{1, 3}\n"
     ]
    }
   ],
   "source": [
    "# remove(elem): Removes an element from the set; raises a KeyError if the element is not present.\n",
    "\n",
    "my_set.remove(2)\n",
    "print(my_set)# Output: {1, 3}"
   ]
  },
  {
   "cell_type": "code",
   "execution_count": 111,
   "id": "ebeee979-c1be-4b75-8ab3-2b57d46f1548",
   "metadata": {},
   "outputs": [],
   "source": [
    "# discard(elem): Removes an element if it is present; does nothing if the element is not found.\n",
    "\n",
    "my_set.discard(4)# No error even though 4 is not present"
   ]
  },
  {
   "cell_type": "code",
   "execution_count": 113,
   "id": "c89e7e29-eb1d-4bea-b836-068dc962a36c",
   "metadata": {},
   "outputs": [
    {
     "name": "stdout",
     "output_type": "stream",
     "text": [
      "set()\n"
     ]
    }
   ],
   "source": [
    "# clear(): Removes all elements from the set.\n",
    "\n",
    "my_set.clear()\n",
    "print(my_set)# Output: set()"
   ]
  },
  {
   "cell_type": "code",
   "execution_count": 115,
   "id": "216589ad-d2b3-4db9-8c85-c0447c7d6ff5",
   "metadata": {},
   "outputs": [
    {
     "name": "stdout",
     "output_type": "stream",
     "text": [
      "{1, 2, 3}\n"
     ]
    }
   ],
   "source": [
    "# copy(): Returns a shallow copy of the set.\n",
    "\n",
    "my_set = {1, 2, 3}\n",
    "copied_set = my_set.copy()\n",
    "print(copied_set)# Output: {1, 2, 3}"
   ]
  },
  {
   "cell_type": "markdown",
   "id": "e82ef249-0cc4-4588-95aa-19529182d41f",
   "metadata": {},
   "source": [
    "### 6. Discuss the use cases of tuples and sets in Python programming."
   ]
  },
  {
   "cell_type": "raw",
   "id": "4945c30b-411b-4ce3-b689-1f66b45b712e",
   "metadata": {},
   "source": [
    "Tuples\n",
    "Immutability:\n",
    "Use Case: Ensuring data integrity and preventing accidental modification of values, e.g., using tuples to represent fixed collections like coordinates (x, y) or RGB color values.\n",
    "\n",
    "Dictionary Keys:\n",
    "Use Case: Using tuples as composite keys in dictionaries, such as (x, y) coordinates in a game grid or other multi-dimensional indices.\n",
    "\n",
    "Multiple Return Values:\n",
    "Use Case: Returning multiple values from a function in a single, structured way, e.g., returning both the result and status from a function.\n",
    "\n",
    "Unpacking:\n",
    "Use Case: Easily extracting multiple values from a tuple and assigning them to variables in a single statement, such as when receiving values from a function or iterating over sequences.\n",
    "\n",
    "Performance (Memory Footprint):\n",
    "Use Case: Using tuples for memory-efficient storage of fixed-size data, which is useful for large datasets where data immutability is desired.\n",
    "\n",
    "\n",
    "Sets\n",
    "Unique Elements:\n",
    "Use Case: Automatically ensuring that all elements are unique, such as maintaining a collection of unique user IDs or tags.\n",
    "\n",
    "Efficient Membership Testing:\n",
    "Use Case: Quickly checking for the presence of elements, which is useful for tasks like checking if an item is in a list of valid entries.\n",
    "\n",
    "Set Operations:\n",
    "Use Case: Performing mathematical set operations such as union, intersection, and difference, e.g., finding common elements between two datasets or combining multiple sets of data.\n",
    "\n",
    "Eliminating Duplicates:\n",
    "Use Case: Removing duplicate values from a list or collection, e.g., converting a list of items to a set to get unique elements.\n",
    "\n",
    "Performance (Hash Table Implementation):\n",
    "Use Case: Efficiently managing and performing operations on large collections of unique items due to average O(1) time complexity for common operations."
   ]
  },
  {
   "cell_type": "markdown",
   "id": "da265140-5e1e-4cfc-9291-3b3b91ef24c0",
   "metadata": {},
   "source": [
    "### 7. Describe how to add, modify, and delete items in a dictionary with examples."
   ]
  },
  {
   "cell_type": "raw",
   "id": "e7575528-0bbb-46f3-9a98-6f72dc81f968",
   "metadata": {},
   "source": [
    "Adding Items\n",
    "To add items to a dictionary, you simply assign a value to a new key. If the key does not exist, it will be created; if it does exist, the value will be updated."
   ]
  },
  {
   "cell_type": "code",
   "execution_count": 2,
   "id": "7e945e99-c550-49ef-980e-8cb96272eb35",
   "metadata": {},
   "outputs": [
    {
     "name": "stdout",
     "output_type": "stream",
     "text": [
      "{'name': 'Alice', 'age': 30, 'city': 'New York'}\n"
     ]
    }
   ],
   "source": [
    "# Example:\n",
    "\n",
    "# Creating an empty dictionary\n",
    "my_dict = {}\n",
    "\n",
    "# Adding items\n",
    "my_dict['name'] = 'Alice'\n",
    "my_dict['age'] = 30\n",
    "my_dict['city'] = 'New York'\n",
    "\n",
    "print(my_dict)"
   ]
  },
  {
   "cell_type": "code",
   "execution_count": 4,
   "id": "0ba46933-189a-4e9e-af7e-9decf8929f06",
   "metadata": {},
   "outputs": [
    {
     "name": "stdout",
     "output_type": "stream",
     "text": [
      "{'name': 'Alice', 'age': 30, 'city': 'New York', 'occupation': 'Engineer'}\n"
     ]
    }
   ],
   "source": [
    "# You can also add items using the update() method, which allows you to add multiple key-value pairs at once.\n",
    "\n",
    "# Example:\n",
    "\n",
    "# Creating a dictionary with some initial items\n",
    "my_dict = {'name': 'Alice', 'age': 30}\n",
    "\n",
    "# Adding multiple items using update\n",
    "my_dict.update({'city': 'New York', 'occupation': 'Engineer'})\n",
    "\n",
    "print(my_dict)\n",
    "# Output: {'name': 'Alice', 'age': 30, 'city': 'New York', 'occupation': 'Engineer'}"
   ]
  },
  {
   "cell_type": "raw",
   "id": "317e9b89-77ff-4eef-8810-016293321816",
   "metadata": {},
   "source": [
    "Modifying Items\n",
    "To modify an item in a dictionary, assign a new value to an existing key. If the key exists, its value will be updated."
   ]
  },
  {
   "cell_type": "code",
   "execution_count": 6,
   "id": "acf44a15-2383-4cfb-9756-d94090bed390",
   "metadata": {},
   "outputs": [
    {
     "name": "stdout",
     "output_type": "stream",
     "text": [
      "{'name': 'Alice', 'age': 31, 'city': 'New York'}\n"
     ]
    }
   ],
   "source": []
  },
  {
   "cell_type": "raw",
   "id": "9ab340d7-8820-426d-a8e5-92c14c8d59ea",
   "metadata": {},
   "source": [
    "Deleting Items\n",
    "To delete items from a dictionary, you can use the del statement or the pop() method."
   ]
  },
  {
   "cell_type": "code",
   "execution_count": 8,
   "id": "4d7eb608-636e-48ef-acef-d84a15f78619",
   "metadata": {},
   "outputs": [
    {
     "name": "stdout",
     "output_type": "stream",
     "text": [
      "{'name': 'Alice', 'age': 30}\n"
     ]
    }
   ],
   "source": [
    "#Using del:\n",
    "\n",
    "# Example:\n",
    "\n",
    "\n",
    "my_dict = {'name': 'Alice', 'age': 30, 'city': 'New York'}\n",
    "\n",
    "del my_dict['city']\n",
    "\n",
    "print(my_dict)"
   ]
  },
  {
   "cell_type": "raw",
   "id": "fa74e5ee-bc97-4082-a96a-004334531a07",
   "metadata": {},
   "source": [
    "Using pop():\n",
    "\n",
    "The pop() method removes an item by key and returns the value. If the key does not exist, it raises a KeyError unless you provide a default value."
   ]
  },
  {
   "cell_type": "code",
   "execution_count": 10,
   "id": "76aa3990-67d4-4f29-bd9b-a6411aa54f74",
   "metadata": {},
   "outputs": [
    {
     "name": "stdout",
     "output_type": "stream",
     "text": [
      "New York\n",
      "{'name': 'Alice', 'age': 30}\n"
     ]
    }
   ],
   "source": [
    "# Example:\n",
    "# Creating a dictionary\n",
    "my_dict = {'name': 'Alice', 'age': 30, 'city': 'New York'}\n",
    "city = my_dict.pop('city')\n",
    "\n",
    "print(city)\n",
    "print(my_dict)"
   ]
  },
  {
   "cell_type": "markdown",
   "id": "0ee6a22a-04e7-4da8-a85c-cefa19b12f7e",
   "metadata": {},
   "source": [
    "### 8. Discuss the importance of dictionary keys being immutable and provide examples."
   ]
  },
  {
   "cell_type": "raw",
   "id": "9a20213a-e120-4758-871d-1482cc609fd8",
   "metadata": {},
   "source": [
    "In Python, dictionary keys must be immutable. This requirement ensures that keys are hashable, which is essential for the dictionary's underlying implementation. Here’s why immutability is important for dictionary keys, along with some examples:\n",
    "\n",
    "Importance of Immutability for Dictionary Keys\n",
    "\n",
    "Hashing:\n",
    "\n",
    "Explanation: Dictionary keys are used to calculate a hash value, which is a unique integer representation of the key. This hash value determines where the key-value pair is stored in the dictionary’s internal data structure (a hash table).\n",
    "Importance: Immutability ensures that the key's hash value remains constant over its lifetime. If a key could change, its hash value could also change, potentially breaking the dictionary’s ability to correctly retrieve the associated value.\n",
    "\n",
    "Consistency:\n",
    "\n",
    "Explanation: Immutable keys maintain a consistent identity throughout their use in the dictionary.\n",
    "Importance: If dictionary keys were mutable, their content could change, leading to unpredictable behavior or errors when trying to retrieve or manage data associated with these keys.\n",
    "\n",
    "Performance:\n",
    "\n",
    "Explanation: Hash tables, which dictionaries use internally, rely on the immutability of keys to ensure efficient performance for lookups, insertions, and deletions.\n",
    "Importance: Hashing with immutable keys allows for fast and reliable operations since the hash function does not need to account for changes in key values."
   ]
  },
  {
   "cell_type": "raw",
   "id": "8b78fa2e-fa27-4a07-8bb0-3778ecf52b7c",
   "metadata": {},
   "source": [
    "Examples of Immutable and Mutable Keys\n",
    "Immutable Keys\n",
    "Strings:\n",
    "\n",
    "Explanation: Strings are immutable in Python. Once a string is created, its content cannot be altered."
   ]
  },
  {
   "cell_type": "code",
   "execution_count": 24,
   "id": "bf3b0775-2f43-4213-a133-cebaa61faa9e",
   "metadata": {},
   "outputs": [
    {
     "name": "stdout",
     "output_type": "stream",
     "text": [
      "Alice\n"
     ]
    }
   ],
   "source": [
    "# Example:\n",
    "my_dict = {'name': 'Alice', 'age': 30}\n",
    "print(my_dict['name']) "
   ]
  },
  {
   "cell_type": "raw",
   "id": "78917d30-8ddb-4ee9-98ac-05a2cd3e8aa0",
   "metadata": {},
   "source": [
    "Tuples (containing only immutable elements):\n",
    "\n",
    "Explanation: Tuples are immutable and can be used as dictionary keys if all their elements are also immutable (e.g., numbers, strings)."
   ]
  },
  {
   "cell_type": "code",
   "execution_count": 22,
   "id": "70823795-9d4e-4ceb-a7f6-4cee19a0e2f9",
   "metadata": {},
   "outputs": [
    {
     "name": "stdout",
     "output_type": "stream",
     "text": [
      "point1\n"
     ]
    }
   ],
   "source": [
    "# Example:\n",
    "my_dict = {('x', 1): 'point1', ('y', 2): 'point2'}\n",
    "print(my_dict[('x', 1)]) "
   ]
  },
  {
   "cell_type": "raw",
   "id": "240a62fb-65ea-416d-b7c1-d3e3b07569fc",
   "metadata": {},
   "source": [
    "Mutable Keys\n",
    "Lists:\n",
    "Explanation: Lists are mutable; their contents can be changed after creation."
   ]
  }
 ],
 "metadata": {
  "kernelspec": {
   "display_name": "Python 3 (ipykernel)",
   "language": "python",
   "name": "python3"
  },
  "language_info": {
   "codemirror_mode": {
    "name": "ipython",
    "version": 3
   },
   "file_extension": ".py",
   "mimetype": "text/x-python",
   "name": "python",
   "nbconvert_exporter": "python",
   "pygments_lexer": "ipython3",
   "version": "3.12.4"
  }
 },
 "nbformat": 4,
 "nbformat_minor": 5
}
